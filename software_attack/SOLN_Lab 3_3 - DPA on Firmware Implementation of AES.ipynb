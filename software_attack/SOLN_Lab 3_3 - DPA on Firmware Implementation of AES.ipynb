{
 "cells": [
  {
   "cell_type": "markdown",
   "metadata": {},
   "source": [
    "# Part 3, Topic 3: DPA on Firmware Implementation of AES"
   ]
  },
  {
   "cell_type": "markdown",
   "metadata": {},
   "source": [
    "---\n",
    "NOTE: This lab references some (commercial) training material on [ChipWhisperer.io](https://www.ChipWhisperer.io). You can freely execute and use the lab per the open-source license (including using it in your own courses if you distribute similarly), but you must maintain notice about this source location. Consider joining our training course to enjoy the full experience.\n",
    "\n",
    "---"
   ]
  },
  {
   "cell_type": "markdown",
   "metadata": {},
   "source": [
    "## AES Model"
   ]
  },
  {
   "cell_type": "code",
   "execution_count": 179,
   "metadata": {},
   "outputs": [],
   "source": [
    "SCOPETYPE = 'OPENADC'\n",
    "PLATFORM = 'CWHUSKY'\n",
    "CRYPTO_TARGET = 'TINYAES128C'\n",
    "VERSION = 'HARDWARE'"
   ]
  },
  {
   "cell_type": "code",
   "execution_count": 188,
   "metadata": {},
   "outputs": [
    {
     "name": "stdout",
     "output_type": "stream",
     "text": [
      "INFO: Caught exception on reconnecting to target - attempting to reconnect to scope first.\n",
      "INFO: This is a work-around when USB has died without Python knowing. Ignore errors above this line.\n",
      "INFO: Found ChipWhisperer😍\n",
      "scope.gain.mode                          changed from low                       to high                     \n",
      "scope.gain.gain                          changed from 0                         to 22                       \n",
      "scope.gain.db                            changed from 15.0                      to 25.091743119266056       \n",
      "scope.adc.samples                        changed from 131124                    to 5000                     \n",
      "scope.clock.clkgen_freq                  changed from 0                         to 7363636.363636363        \n",
      "scope.clock.adc_freq                     changed from 0                         to 29454545.454545453       \n",
      "scope.clock.adc_rate                     changed from 0.0                       to 29454545.454545453       \n",
      "scope.io.tio1                            changed from serial_tx                 to serial_rx                \n",
      "scope.io.tio2                            changed from serial_rx                 to serial_tx                \n",
      "scope.io.hs2                             changed from None                      to clkgen                   \n",
      "scope.io.cdc_settings                    changed from [1, 0, 0, 0]              to [0, 0, 0, 0]             \n",
      "scope.glitch.phase_shift_steps           changed from 0                         to 4592                     \n",
      "scope.trace.capture.trigger_source       changed from trace trigger, rule #0    to firmware trigger         \n",
      "Building for platform CWHUSKY with CRYPTO_TARGET=TINYAES128C\n",
      "SS_VER set to SS_VER_1_1\n",
      "SS_VER set to SS_VER_1_1\n",
      "Blank crypto options, building for AES128\n",
      "arm-none-eabi-gcc (15:13.2.rel1-2) 13.2.1 20231009\n",
      "Copyright (C) 2023 Free Software Foundation, Inc.\n",
      "This is free software; see the source for copying conditions.  There is NO\n",
      "warranty; not even for MERCHANTABILITY or FITNESS FOR A PARTICULAR PURPOSE.\n",
      "\n",
      "mkdir -p objdir-CWHUSKY \n",
      ".\n",
      "Welcome to another exciting ChipWhisperer target build!!\n",
      ".\n",
      ".\n",
      ".\n",
      ".\n",
      ".\n",
      ".\n",
      ".\n",
      ".\n",
      "Compiling:\n",
      "Compiling:\n",
      "Compiling:\n",
      "Compiling:\n",
      "Compiling:\n",
      "Compiling:\n",
      "-en     simpleserial-aes.c ...\n",
      "Compiling:\n",
      "Compiling:\n",
      ".\n",
      "-en     .././hal//sam4s/startup_sam4s.c ...\n",
      ".\n",
      "-en     .././hal/hal.c ...\n",
      ".\n",
      "-en     .././simpleserial/simpleserial.c ...\n",
      "-en     .././hal//sam4s/sam4s_hal.c ...\n",
      ".\n",
      "-en     .././hal//sam4s/uart.c ...\n",
      "-en     .././hal//sam4s/pio.c ...\n",
      "-en     .././hal//sam4s/system_sam4s.c ...\n",
      "Compiling:\n",
      "Compiling:\n",
      "Compiling:\n",
      "Compiling:\n",
      "-en     .././hal//sam4s/sysclk.c ...\n",
      "-en     .././crypto/aes-independant.c ...\n",
      "-en     .././crypto/tiny-AES128-C/aes.c ...\n",
      "-en     .././hal//sam4s/pmc.c ...\n",
      "-e Done!\n",
      "-e Done!\n",
      "-e Done!\n",
      "-e Done!\n",
      "-e Done!\n",
      "-e Done!\n",
      "-e Done!\n",
      "-e Done!\n",
      "-e Done!\n",
      "-e Done!\n",
      "-e Done!\n",
      "-e Done!\n",
      ".\n",
      "LINKING:\n",
      "-en     simpleserial-aes-CWHUSKY.elf ...\n",
      "Memory region         Used Size  Region Size  %age Used\n",
      "             rom:        4624 B       128 KB      3.53%\n",
      "             ram:          5 KB        64 KB      7.81%\n",
      "-e Done!\n",
      ".\n",
      ".\n",
      ".\n",
      ".\n",
      ".\n",
      "Creating Symbol Table: simpleserial-aes-CWHUSKY.sym\n",
      "arm-none-eabi-nm -n simpleserial-aes-CWHUSKY.elf > simpleserial-aes-CWHUSKY.sym\n",
      "Creating load file for Flash: simpleserial-aes-CWHUSKY.hex\n",
      "Creating load file for Flash: simpleserial-aes-CWHUSKY.bin\n",
      "Creating load file for EEPROM: simpleserial-aes-CWHUSKY.eep\n",
      "Creating Extended Listing: simpleserial-aes-CWHUSKY.lss\n",
      "arm-none-eabi-objcopy -j .eeprom --set-section-flags=.eeprom=\"alloc,load\" \\\n",
      "--change-section-lma .eeprom=0 --no-change-warnings -O ihex simpleserial-aes-CWHUSKY.elf simpleserial-aes-CWHUSKY.eep || exit 0\n",
      "arm-none-eabi-objcopy -O binary -R .eeprom -R .fuse -R .lock -R .signature simpleserial-aes-CWHUSKY.elf simpleserial-aes-CWHUSKY.bin\n",
      "arm-none-eabi-objcopy -O ihex -R .eeprom -R .fuse -R .lock -R .signature simpleserial-aes-CWHUSKY.elf simpleserial-aes-CWHUSKY.hex\n",
      "arm-none-eabi-objdump -h -S -z simpleserial-aes-CWHUSKY.elf > simpleserial-aes-CWHUSKY.lss\n",
      "Size after:\n",
      "   text\t   data\t    bss\t    dec\t    hex\tfilename\n",
      "   4624\t    276\t   4844\t   9744\t   2610\tsimpleserial-aes-CWHUSKY.elf\n",
      "+--------------------------------------------------------\n",
      "+ Default target does full rebuild each time.\n",
      "+ Specify buildtarget == allquick == to avoid full rebuild\n",
      "+--------------------------------------------------------\n",
      "+--------------------------------------------------------\n",
      "+ Built for platform CW-Husky Microchip SAM4S with:\n",
      "+ CRYPTO_TARGET = TINYAES128C\n",
      "+ CRYPTO_OPTIONS = AES128C\n",
      "+--------------------------------------------------------\n"
     ]
    },
    {
     "data": {
      "application/vnd.jupyter.widget-view+json": {
       "model_id": "3f9383d8a9da4ee6b1ce3617778f05dc",
       "version_major": 2,
       "version_minor": 0
      },
      "text/plain": [
       "Capturing traces:   0%|          | 0/25000 [00:00<?, ?it/s]"
      ]
     },
     "metadata": {},
     "output_type": "display_data"
    }
   ],
   "source": [
    "if VERSION == 'HARDWARE':\n",
    "    %run \"Lab 3_3 - DPA on Firmware Implementation of AES (HARDWARE).ipynb\"\n",
    "elif VERSION == 'SIMULATED':\n",
    "    %run \"Lab 3_3 - DPA on Firmware Implementation of AES (SIMULATED).ipynb\""
   ]
  },
  {
   "cell_type": "markdown",
   "metadata": {},
   "source": [
    "To check that the ASCON implementation is working, the result of the first random nonce is printed"
   ]
  },
  {
   "cell_type": "code",
   "execution_count": 217,
   "metadata": {},
   "outputs": [
    {
     "name": "stdout",
     "output_type": "stream",
     "text": [
      "Nonce 0 (hex): 48ffefc6b2125c313d39cc31f99e4ecb\n",
      "Output (40 bytes): 747f03b24663ffb9be319d4b77afc6c470de72b6ceffff3abf319d4bf7afc685fa128c4bf723c675\n"
     ]
    }
   ],
   "source": [
    "nonce_0 = textin_array[0]\n",
    "print(\"Nonce 0 (hex):\", nonce_0.hex())\n",
    "\n",
    "response_0 = response_array[0]\n",
    "print(\"Output (40 bytes):\", response_0.hex())\n"
   ]
  },
  {
   "cell_type": "markdown",
   "metadata": {},
   "source": [
    "definition of the function that performs the constant addition layer and the substitution layer for 1 bit of each state (1 bit of IV, 2 bits of nonce, 2 bits of key), and it returns a binary value s[0] ^ s[3].\n",
    "s[0] ^ s[3] has been chosen because, by looking at the assembly code of the firmware that perform the partial ASCON permutation, s[0] ^= s[4] gets stored inside the register R0, and then the very next value that gets stored in R0, is s[3] ^= s[2]."
   ]
  },
  {
   "cell_type": "code",
   "execution_count": 252,
   "metadata": {},
   "outputs": [],
   "source": [
    "def simulate_ascon_lsb(iv, n0, n1, k0_b, k1_b, bitpos=0):\n",
    "   \n",
    "    iv_b = (iv >> bitpos) & 1\n",
    "    n0_b = (n0 >> bitpos) & 1\n",
    "    n1_b = (n1 >> bitpos) & 1\n",
    "   \n",
    "\n",
    "    s = [iv_b, k0_b, k1_b, n0_b, n1_b]\n",
    "\n",
    "    rc_bit = ((0xF0 >> bitpos) & 1) if 0 <= bitpos < 8 else 0\n",
    "    s[2] ^= rc_bit\n",
    "\n",
    "    s[0] ^= s[4]\n",
    "    s[4] ^= s[3]\n",
    "    s[2] ^= s[1]\n",
    "\n",
    "    t = [0] * 5\n",
    "    t[0] = ((~s[0]) & 1) & s[1]\n",
    "    t[1] = ((~s[1]) & 1) & s[2]\n",
    "    t[2] = ((~s[2]) & 1) & s[3]\n",
    "    t[3] = ((~s[3]) & 1) & s[4]\n",
    "    t[4] = ((~s[4]) & 1) & s[0]\n",
    "    for i in range(5):\n",
    "        s[i] ^= t[(i + 1) % 5]\n",
    "\n",
    "    s[1] ^= s[0]\n",
    "    s[0] ^= s[4]\n",
    "    s[3] ^= s[2]\n",
    "    s[2] = (~s[2]) & 1\n",
    "\n",
    "    return s[0] ^ s[3]\n"
   ]
  },
  {
   "cell_type": "markdown",
   "metadata": {},
   "source": [
    "Now the 4 combination of the 2 key bit gets tested, so for each one of them, for each nonce tried, the function \"simulate_ascon_lsb\" gets called and the power traces get splitted according to the return value of the function. \n",
    "This process gets then iterated for each 5-bit state. meaning:\n",
    "round 1: s[0][0], s[1][0], ... , s[4][0]\n",
    "round 2: s[0][1], s[1][1], ... , s[4][1]\n",
    "round 3: s[0][2], s[1][2], ... , s[4][2]\n",
    "then the most likely key bits gets printed"
   ]
  },
  {
   "cell_type": "code",
   "execution_count": 261,
   "metadata": {},
   "outputs": [],
   "source": [
    "def run_dpa_all_bits(trace_array, textin_array):\n",
    "    traces = np.array(trace_array)\n",
    "    IV = 0x00001000808c0001\n",
    "    best_k0_bits = []\n",
    "    best_k1_bits = []\n",
    "\n",
    "    for bitpos in range(32):  # bitpos 0..8\n",
    "        best_peak = -1\n",
    "        best_key = None\n",
    "\n",
    "        for k0_guess in [0, 1]:\n",
    "            for k1_guess in [0, 1]:\n",
    "                y = []\n",
    "                for pt in textin_array:\n",
    "                    n0 = int.from_bytes(pt[0:8], 'little')\n",
    "                    n1 = int.from_bytes(pt[8:16], 'little')\n",
    "                    k0 = k0_guess  # in questa versione solo 1 bit guess\n",
    "                    k1 = k1_guess\n",
    "                    predicted_bit = simulate_ascon_lsb(IV, n0, n1, k0, k1, bitpos)\n",
    "                    y.append(predicted_bit)\n",
    "\n",
    "                y = np.array(y)\n",
    "                group0 = traces[y == 0]\n",
    "                group1 = traces[y == 1]\n",
    "                mean0 = np.mean(group0, axis=0)\n",
    "                mean1 = np.mean(group1, axis=0)\n",
    "                dpa_trace = mean1 - mean0\n",
    "\n",
    "                peak_val = np.max(np.abs(dpa_trace))\n",
    "                if peak_val > best_peak:\n",
    "                    best_peak = peak_val\n",
    "                    best_key = (k0_guess, k1_guess)\n",
    "\n",
    "            \n",
    "\n",
    "        print(f\"[bitpos={bitpos}] Best key guess: k0={best_key[0]}, k1={best_key[1]}, peak={best_peak:.4f}\")\n",
    "        best_k0_bits.append(str(best_key[0]))\n",
    "        best_k1_bits.append(str(best_key[1]))\n",
    "    key0_str = ''.join(reversed(best_k0_bits))  # reversed se vuoi MSB->LSB\n",
    "    key1_str = ''.join(reversed(best_k1_bits))\n",
    "    print(f\"key0 bits: {key0_str}\")\n",
    "    print(f\"key1 bits: {key1_str}\")\n",
    "   \n"
   ]
  },
  {
   "cell_type": "code",
   "execution_count": 262,
   "metadata": {
    "scrolled": true
   },
   "outputs": [
    {
     "name": "stdout",
     "output_type": "stream",
     "text": [
      "[bitpos=0] Best key guess: k0=1, k1=0, peak=0.0072\n",
      "[bitpos=1] Best key guess: k0=0, k1=0, peak=0.0045\n",
      "[bitpos=2] Best key guess: k0=0, k1=0, peak=0.0036\n",
      "[bitpos=3] Best key guess: k0=0, k1=0, peak=0.0035\n",
      "[bitpos=4] Best key guess: k0=0, k1=0, peak=0.0036\n",
      "[bitpos=5] Best key guess: k0=0, k1=0, peak=0.0038\n",
      "[bitpos=6] Best key guess: k0=0, k1=0, peak=0.0052\n",
      "[bitpos=7] Best key guess: k0=0, k1=0, peak=0.0071\n",
      "[bitpos=8] Best key guess: k0=0, k1=0, peak=0.0041\n",
      "[bitpos=9] Best key guess: k0=0, k1=0, peak=0.0020\n",
      "[bitpos=10] Best key guess: k0=0, k1=0, peak=0.0030\n",
      "[bitpos=11] Best key guess: k0=0, k1=0, peak=0.0025\n",
      "[bitpos=12] Best key guess: k0=0, k1=0, peak=0.0047\n",
      "[bitpos=13] Best key guess: k0=0, k1=0, peak=0.0038\n",
      "[bitpos=14] Best key guess: k0=0, k1=0, peak=0.0038\n",
      "[bitpos=15] Best key guess: k0=0, k1=0, peak=0.0069\n",
      "[bitpos=16] Best key guess: k0=0, k1=0, peak=0.0028\n",
      "[bitpos=17] Best key guess: k0=0, k1=0, peak=0.0053\n",
      "[bitpos=18] Best key guess: k0=1, k1=0, peak=0.0058\n",
      "[bitpos=19] Best key guess: k0=1, k1=0, peak=0.0066\n",
      "[bitpos=20] Best key guess: k0=0, k1=0, peak=0.0035\n",
      "[bitpos=21] Best key guess: k0=0, k1=0, peak=0.0030\n",
      "[bitpos=22] Best key guess: k0=0, k1=0, peak=0.0036\n",
      "[bitpos=23] Best key guess: k0=1, k1=0, peak=0.0051\n",
      "[bitpos=24] Best key guess: k0=0, k1=0, peak=0.0045\n",
      "[bitpos=25] Best key guess: k0=0, k1=0, peak=0.0018\n",
      "[bitpos=26] Best key guess: k0=0, k1=0, peak=0.0040\n",
      "[bitpos=27] Best key guess: k0=0, k1=0, peak=0.0029\n",
      "[bitpos=28] Best key guess: k0=0, k1=0, peak=0.0055\n",
      "[bitpos=29] Best key guess: k0=0, k1=0, peak=0.0066\n",
      "[bitpos=30] Best key guess: k0=0, k1=0, peak=0.0053\n",
      "[bitpos=31] Best key guess: k0=0, k1=0, peak=0.0042\n",
      "key0 bits: 00000000100011000000000000000001\n",
      "key1 bits: 00000000000000000000000000000000\n"
     ]
    }
   ],
   "source": [
    "run_dpa_all_bits(trace_array, textin_array)"
   ]
  },
  {
   "cell_type": "markdown",
   "metadata": {},
   "source": [
    "trying the 32 msb in case those are the ones saved inside r0"
   ]
  },
  {
   "cell_type": "code",
   "execution_count": 263,
   "metadata": {},
   "outputs": [],
   "source": [
    "def run_dpa_all_bits(trace_array, textin_array):\n",
    "    traces = np.array(trace_array)\n",
    "    IV = 0x00001000808c0001\n",
    "    best_k0_bits = []\n",
    "    best_k1_bits = []\n",
    "\n",
    "    for bitpos in range(32, 64):\n",
    "        \n",
    "        best_peak = -1\n",
    "        best_key = None\n",
    "\n",
    "        for k0_guess in [0, 1]:\n",
    "            for k1_guess in [0, 1]:\n",
    "                y = []\n",
    "                for pt in textin_array:\n",
    "                    n0 = int.from_bytes(pt[0:8], 'little')\n",
    "                    n1 = int.from_bytes(pt[8:16], 'little')\n",
    "                    k0 = k0_guess  \n",
    "                    k1 = k1_guess\n",
    "                    predicted_bit = simulate_ascon_lsb(IV, n0, n1, k0, k1, bitpos)\n",
    "                    y.append(predicted_bit)\n",
    "\n",
    "                y = np.array(y)\n",
    "                group0 = traces[y == 0]\n",
    "                group1 = traces[y == 1]\n",
    "                mean0 = np.mean(group0, axis=0)\n",
    "                mean1 = np.mean(group1, axis=0)\n",
    "                dpa_trace = mean1 - mean0\n",
    "\n",
    "                peak_val = np.max(np.abs(dpa_trace))\n",
    "                if peak_val > best_peak:\n",
    "                    best_peak = peak_val\n",
    "                    best_key = (k0_guess, k1_guess)\n",
    "\n",
    "            \n",
    "\n",
    "        print(f\"[bitpos={bitpos}] Best key guess: k0={best_key[0]}, k1={best_key[1]}, peak={best_peak:.4f}\")\n",
    "        best_k0_bits.append(str(best_key[0]))\n",
    "        best_k1_bits.append(str(best_key[1]))\n",
    "    key0_str = ''.join(reversed(best_k0_bits))  \n",
    "    key1_str = ''.join(reversed(best_k1_bits))\n",
    "    print(f\"key0 bits: {key0_str}\")\n",
    "    print(f\"key1 bits: {key1_str}\")"
   ]
  },
  {
   "cell_type": "code",
   "execution_count": null,
   "metadata": {},
   "outputs": [
    {
     "name": "stdout",
     "output_type": "stream",
     "text": [
      "[bitpos=32] Best key guess: k0=0, k1=0, peak=0.0073\n",
      "[bitpos=33] Best key guess: k0=0, k1=0, peak=0.0062\n",
      "[bitpos=34] Best key guess: k0=0, k1=0, peak=0.0029\n",
      "[bitpos=35] Best key guess: k0=0, k1=0, peak=0.0077\n",
      "[bitpos=36] Best key guess: k0=0, k1=0, peak=0.0047\n",
      "[bitpos=37] Best key guess: k0=0, k1=0, peak=0.0056\n",
      "[bitpos=38] Best key guess: k0=0, k1=0, peak=0.0049\n",
      "[bitpos=39] Best key guess: k0=0, k1=0, peak=0.0057\n",
      "[bitpos=40] Best key guess: k0=0, k1=0, peak=0.0046\n",
      "[bitpos=41] Best key guess: k0=0, k1=0, peak=0.0042\n",
      "[bitpos=42] Best key guess: k0=0, k1=0, peak=0.0072\n",
      "[bitpos=43] Best key guess: k0=0, k1=0, peak=0.0026\n",
      "[bitpos=44] Best key guess: k0=1, k1=0, peak=0.0039\n",
      "[bitpos=45] Best key guess: k0=0, k1=0, peak=0.0051\n",
      "[bitpos=46] Best key guess: k0=0, k1=0, peak=0.0052\n",
      "[bitpos=47] Best key guess: k0=0, k1=0, peak=0.0050\n",
      "[bitpos=48] Best key guess: k0=0, k1=0, peak=0.0042\n",
      "[bitpos=49] Best key guess: k0=0, k1=0, peak=0.0069\n",
      "[bitpos=50] Best key guess: k0=0, k1=0, peak=0.0039\n",
      "[bitpos=51] Best key guess: k0=0, k1=0, peak=0.0030\n",
      "[bitpos=52] Best key guess: k0=0, k1=0, peak=0.0049\n",
      "[bitpos=53] Best key guess: k0=0, k1=0, peak=0.0037\n"
     ]
    }
   ],
   "source": [
    "run_dpa_all_bits(trace_array, textin_array)"
   ]
  },
  {
   "cell_type": "code",
   "execution_count": null,
   "metadata": {},
   "outputs": [],
   "source": []
  }
 ],
 "metadata": {
  "kernelspec": {
   "display_name": "Python 3 (ipykernel)",
   "language": "python",
   "name": "python3"
  },
  "language_info": {
   "codemirror_mode": {
    "name": "ipython",
    "version": 3
   },
   "file_extension": ".py",
   "mimetype": "text/x-python",
   "name": "python",
   "nbconvert_exporter": "python",
   "pygments_lexer": "ipython3",
   "version": "3.12.9"
  }
 },
 "nbformat": 4,
 "nbformat_minor": 4
}
